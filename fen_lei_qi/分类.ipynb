{
 "cells": [
  {
   "cell_type": "code",
   "execution_count": 1,
   "metadata": {},
   "outputs": [
    {
     "name": "stderr",
     "output_type": "stream",
     "text": [
      "Using TensorFlow backend.\n"
     ]
    }
   ],
   "source": [
    "import tensorflow as tf\n",
    "import keras\n",
    "import numpy as np\n",
    "from keras.models import Sequential,load_model\n",
    "from keras.layers import Dense,Dropout\n",
    "from keras.optimizers import RMSprop\n",
    "import matplotlib.pyplot as plt \n"
   ]
  },
  {
   "cell_type": "markdown",
   "metadata": {},
   "source": [
    "导入需要的库"
   ]
  },
  {
   "cell_type": "code",
   "execution_count": 2,
   "metadata": {},
   "outputs": [],
   "source": [
    "def load_data(file_path):\n",
    "    data=[]\n",
    "    label=[]\n",
    "    with open(file_path,\"r\") as data_file:\n",
    "        raw_data=data_file.readlines()\n",
    "        for raw_line in raw_data:\n",
    "            sample=raw_line[:-1]\n",
    "            sample=sample.split(\",\")\n",
    "            label.append(sample[-1])\n",
    "            sample=np.array([float(feature) for feature in sample[:-1]]) \n",
    "            sample[-3]/=10\n",
    "            sample[-2]/=100\n",
    "            sample[-1]/=1000\n",
    "            data.append(sample)\n",
    "    return np.array(data),np.array(label)\n",
    "train_data,train_label=load_data(\".\\spambase_train.data\")\n",
    "test_data,test_label=load_data(\".\\spambase_test.data\")"
   ]
  },
  {
   "cell_type": "markdown",
   "metadata": {},
   "source": [
    "导入训练数据"
   ]
  },
  {
   "cell_type": "code",
   "execution_count": 3,
   "metadata": {},
   "outputs": [
    {
     "data": {
      "text/plain": [
       "1430"
      ]
     },
     "execution_count": 3,
     "metadata": {},
     "output_type": "execute_result"
    }
   ],
   "source": [
    "len(test_data)"
   ]
  },
  {
   "cell_type": "code",
   "execution_count": 4,
   "metadata": {},
   "outputs": [
    {
     "name": "stdout",
     "output_type": "stream",
     "text": [
      "_________________________________________________________________\n",
      "Layer (type)                 Output Shape              Param #   \n",
      "=================================================================\n",
      "dense_1 (Dense)              (None, 60)                3480      \n",
      "_________________________________________________________________\n",
      "dense_2 (Dense)              (None, 60)                3660      \n",
      "_________________________________________________________________\n",
      "dense_3 (Dense)              (None, 1)                 61        \n",
      "=================================================================\n",
      "Total params: 7,201\n",
      "Trainable params: 7,201\n",
      "Non-trainable params: 0\n",
      "_________________________________________________________________\n"
     ]
    }
   ],
   "source": [
    "model = Sequential()\n",
    "model.add(Dense(input_dim=57,units=60,activation='relu'))\n",
    "model.add(Dense(input_dim=60,units=60,activation='relu'))\n",
    "model.add(Dense(input_dim=60,units=1,activation='sigmoid'))\n",
    "rmsprop = RMSprop(lr=0.001, rho=0.9, epsilon=1e-08, decay=0.0)\n",
    "model.compile(optimizer=rmsprop,\n",
    "              loss='binary_crossentropy',\n",
    "              metrics=['accuracy'])\n",
    "model.summary()"
   ]
  },
  {
   "cell_type": "markdown",
   "metadata": {},
   "source": [
    "组建三层全连接网络"
   ]
  },
  {
   "cell_type": "code",
   "execution_count": 5,
   "metadata": {},
   "outputs": [
    {
     "name": "stdout",
     "output_type": "stream",
     "text": [
      "Train on 3171 samples, validate on 1430 samples\n",
      "Epoch 1/40\n",
      "3171/3171 [==============================] - 0s 74us/step - loss: 0.4939 - acc: 0.8373 - val_loss: 0.3510 - val_acc: 0.9105\n",
      "Epoch 2/40\n",
      "3171/3171 [==============================] - 0s 15us/step - loss: 0.2858 - acc: 0.9212 - val_loss: 0.2365 - val_acc: 0.9308\n",
      "Epoch 3/40\n",
      "3171/3171 [==============================] - 0s 15us/step - loss: 0.2195 - acc: 0.9294 - val_loss: 0.2027 - val_acc: 0.9427\n",
      "Epoch 4/40\n",
      "3171/3171 [==============================] - 0s 15us/step - loss: 0.1960 - acc: 0.9335 - val_loss: 0.1934 - val_acc: 0.9378\n",
      "Epoch 5/40\n",
      "3171/3171 [==============================] - 0s 15us/step - loss: 0.1823 - acc: 0.9363 - val_loss: 0.1834 - val_acc: 0.9385\n",
      "Epoch 6/40\n",
      "3171/3171 [==============================] - 0s 15us/step - loss: 0.1740 - acc: 0.9395 - val_loss: 0.1743 - val_acc: 0.9406\n",
      "Epoch 7/40\n",
      "3171/3171 [==============================] - 0s 15us/step - loss: 0.1660 - acc: 0.9420 - val_loss: 0.1708 - val_acc: 0.9406\n",
      "Epoch 8/40\n",
      "3171/3171 [==============================] - 0s 15us/step - loss: 0.1619 - acc: 0.9420 - val_loss: 0.1701 - val_acc: 0.9448\n",
      "Epoch 9/40\n",
      "3171/3171 [==============================] - 0s 15us/step - loss: 0.1556 - acc: 0.9442 - val_loss: 0.1656 - val_acc: 0.9448\n",
      "Epoch 10/40\n",
      "3171/3171 [==============================] - 0s 15us/step - loss: 0.1530 - acc: 0.9454 - val_loss: 0.1611 - val_acc: 0.9462\n",
      "Epoch 11/40\n",
      "3171/3171 [==============================] - 0s 15us/step - loss: 0.1483 - acc: 0.9454 - val_loss: 0.1612 - val_acc: 0.9490\n",
      "Epoch 12/40\n",
      "3171/3171 [==============================] - 0s 15us/step - loss: 0.1445 - acc: 0.9461 - val_loss: 0.1611 - val_acc: 0.9469\n",
      "Epoch 13/40\n",
      "3171/3171 [==============================] - 0s 15us/step - loss: 0.1409 - acc: 0.9505 - val_loss: 0.1684 - val_acc: 0.9371\n",
      "Epoch 14/40\n",
      "3171/3171 [==============================] - 0s 20us/step - loss: 0.1383 - acc: 0.9480 - val_loss: 0.1557 - val_acc: 0.9406\n",
      "Epoch 15/40\n",
      "3171/3171 [==============================] - 0s 20us/step - loss: 0.1333 - acc: 0.9508 - val_loss: 0.1647 - val_acc: 0.9399\n",
      "Epoch 16/40\n",
      "3171/3171 [==============================] - 0s 15us/step - loss: 0.1312 - acc: 0.9514 - val_loss: 0.1543 - val_acc: 0.9413\n",
      "Epoch 17/40\n",
      "3171/3171 [==============================] - 0s 15us/step - loss: 0.1296 - acc: 0.9511 - val_loss: 0.1559 - val_acc: 0.9413\n",
      "Epoch 18/40\n",
      "3171/3171 [==============================] - 0s 15us/step - loss: 0.1254 - acc: 0.9546 - val_loss: 0.1513 - val_acc: 0.9462\n",
      "Epoch 19/40\n",
      "3171/3171 [==============================] - 0s 15us/step - loss: 0.1249 - acc: 0.9543 - val_loss: 0.1503 - val_acc: 0.9469\n",
      "Epoch 20/40\n",
      "3171/3171 [==============================] - 0s 15us/step - loss: 0.1215 - acc: 0.9540 - val_loss: 0.1523 - val_acc: 0.9427\n",
      "Epoch 21/40\n",
      "3171/3171 [==============================] - 0s 15us/step - loss: 0.1195 - acc: 0.9543 - val_loss: 0.1501 - val_acc: 0.9490\n",
      "Epoch 22/40\n",
      "3171/3171 [==============================] - 0s 10us/step - loss: 0.1162 - acc: 0.9546 - val_loss: 0.1474 - val_acc: 0.9455\n",
      "Epoch 23/40\n",
      "3171/3171 [==============================] - 0s 10us/step - loss: 0.1140 - acc: 0.9546 - val_loss: 0.1490 - val_acc: 0.9462\n",
      "Epoch 24/40\n",
      "3171/3171 [==============================] - 0s 15us/step - loss: 0.1123 - acc: 0.9587 - val_loss: 0.1499 - val_acc: 0.9469\n",
      "Epoch 25/40\n",
      "3171/3171 [==============================] - 0s 15us/step - loss: 0.1115 - acc: 0.9574 - val_loss: 0.1529 - val_acc: 0.9427\n",
      "Epoch 26/40\n",
      "3171/3171 [==============================] - 0s 15us/step - loss: 0.1082 - acc: 0.9606 - val_loss: 0.1486 - val_acc: 0.9434\n",
      "Epoch 27/40\n",
      "3171/3171 [==============================] - 0s 15us/step - loss: 0.1061 - acc: 0.9603 - val_loss: 0.1610 - val_acc: 0.9441\n",
      "Epoch 28/40\n",
      "3171/3171 [==============================] - 0s 15us/step - loss: 0.1048 - acc: 0.9599 - val_loss: 0.1440 - val_acc: 0.9462\n",
      "Epoch 29/40\n",
      "3171/3171 [==============================] - 0s 15us/step - loss: 0.1016 - acc: 0.9618 - val_loss: 0.1466 - val_acc: 0.9413\n",
      "Epoch 30/40\n",
      "3171/3171 [==============================] - 0s 15us/step - loss: 0.1004 - acc: 0.9644 - val_loss: 0.1525 - val_acc: 0.9483\n",
      "Epoch 31/40\n",
      "3171/3171 [==============================] - 0s 20us/step - loss: 0.0985 - acc: 0.9634 - val_loss: 0.1494 - val_acc: 0.9497\n",
      "Epoch 32/40\n",
      "3171/3171 [==============================] - 0s 15us/step - loss: 0.0954 - acc: 0.9659 - val_loss: 0.1633 - val_acc: 0.9455\n",
      "Epoch 33/40\n",
      "3171/3171 [==============================] - 0s 20us/step - loss: 0.0953 - acc: 0.9640 - val_loss: 0.1511 - val_acc: 0.9462\n",
      "Epoch 34/40\n",
      "3171/3171 [==============================] - 0s 15us/step - loss: 0.0935 - acc: 0.9647 - val_loss: 0.1498 - val_acc: 0.9469\n",
      "Epoch 35/40\n",
      "3171/3171 [==============================] - 0s 15us/step - loss: 0.0910 - acc: 0.9663 - val_loss: 0.1561 - val_acc: 0.9469\n",
      "Epoch 36/40\n",
      "3171/3171 [==============================] - 0s 15us/step - loss: 0.0891 - acc: 0.9688 - val_loss: 0.1507 - val_acc: 0.9469\n",
      "Epoch 37/40\n",
      "3171/3171 [==============================] - 0s 15us/step - loss: 0.0871 - acc: 0.9691 - val_loss: 0.1473 - val_acc: 0.9469\n",
      "Epoch 38/40\n",
      "3171/3171 [==============================] - 0s 15us/step - loss: 0.0860 - acc: 0.9681 - val_loss: 0.1561 - val_acc: 0.9455\n",
      "Epoch 39/40\n",
      "3171/3171 [==============================] - 0s 15us/step - loss: 0.0826 - acc: 0.9694 - val_loss: 0.1510 - val_acc: 0.9476\n",
      "Epoch 40/40\n",
      "3171/3171 [==============================] - 0s 15us/step - loss: 0.0826 - acc: 0.9688 - val_loss: 0.1616 - val_acc: 0.9483\n"
     ]
    }
   ],
   "source": [
    "history = model.fit(train_data,\n",
    "                    train_label,\n",
    "                    epochs=40,\n",
    "                    batch_size=100,\n",
    "                    validation_data=(test_data, test_label),\n",
    "                    verbose=1)"
   ]
  },
  {
   "cell_type": "code",
   "execution_count": 6,
   "metadata": {},
   "outputs": [],
   "source": [
    "model.save('weight_one.h5')\n",
    "history_dict = history.history\n",
    "history_dict.keys()\n",
    "dict_keys=['loss', 'val_loss', 'val_acc', 'acc']"
   ]
  },
  {
   "cell_type": "code",
   "execution_count": 7,
   "metadata": {},
   "outputs": [
    {
     "data": {
      "image/png": "[encoded data removed]",
      "text/plain": [
       "<Figure size 432x288 with 1 Axes>"
      ]
     },
     "metadata": {
      "needs_background": "light"
     },
     "output_type": "display_data"
    }
   ],
   "source": [
    "import matplotlib.pyplot as plt\n",
    "%matplotlib inline\n",
    "acc = history.history['acc']\n",
    "val_acc = history.history['val_acc']\n",
    "loss = history.history['loss']\n",
    "val_loss = history.history['val_loss']\n",
    "\n",
    "epochs = range(1, len(acc) + 1)\n",
    "\n",
    "# \"bo\" is for \"blue dot\"\n",
    "plt.plot(epochs, loss, 'bo', label='Training loss')\n",
    "# b is for \"solid blue line\"\n",
    "plt.plot(epochs, val_loss, 'b', label='Validation loss')\n",
    "plt.title('Training and validation loss')\n",
    "plt.xlabel('Epochs')\n",
    "plt.ylabel('Loss')\n",
    "plt.legend()\n",
    "\n",
    "plt.show()"
   ]
  },
  {
   "cell_type": "code",
   "execution_count": 8,
   "metadata": {},
   "outputs": [
    {
     "data": {
      "image/png": "[encoded data removed]",
      "text/plain": [
       "<Figure size 432x288 with 1 Axes>"
      ]
     },
     "metadata": {
      "needs_background": "light"
     },
     "output_type": "display_data"
    }
   ],
   "source": [
    "acc_values = history_dict['acc']\n",
    "val_acc_values = history_dict['val_acc']\n",
    "\n",
    "plt.plot(epochs, acc, 'bo', label='Training acc')\n",
    "plt.plot(epochs, val_acc, 'b', label='Validation acc')\n",
    "plt.title('Training and validation accuracy')\n",
    "plt.xlabel('Epochs')\n",
    "plt.ylabel('Accuracy')\n",
    "plt.legend()\n",
    "\n",
    "plt.show()"
   ]
  },
  {
   "cell_type": "markdown",
   "metadata": {},
   "source": [
    "有欠拟合情况发生，采用两层全连接层将极大改善此现象"
   ]
  },
  {
   "cell_type": "code",
   "execution_count": 9,
   "metadata": {},
   "outputs": [],
   "source": [
    "def load_prediction_data(file_path):\n",
    "    data=[]\n",
    "    with open(file_path,\"r\") as data_file:\n",
    "        raw_data=data_file.readlines()\n",
    "        for raw_line in raw_data:\n",
    "            sample=raw_line[:-1]\n",
    "            sample=sample.split(\",\")\n",
    "            sample=np.array([float(feature) for feature in sample])\n",
    "            sample[-3]/=10\n",
    "            sample[-2]/=100\n",
    "            sample[-1]/=1000\n",
    "            data.append(sample)\n",
    "    return np.array(data)\n",
    "test_flag_data=load_prediction_data(\".\\get_the_flag.data\")"
   ]
  },
  {
   "cell_type": "code",
   "execution_count": 10,
   "metadata": {},
   "outputs": [
    {
     "name": "stdout",
     "output_type": "stream",
     "text": [
      "(560, 1)\n",
      "[0.98935854]\n",
      "56\n",
      "[0.98935854 0.902683   0.55349815 0.9999546  0.87513936 0.982796\n",
      " 0.99896634 0.9971437  0.9999765  0.42438012]\n"
     ]
    }
   ],
   "source": [
    "model.load_weights('weight_one.h5')\n",
    "test_flag_label= model.predict(test_flag_data)\n",
    "print(test_flag_label.shape)\n",
    "print(test_flag_label[0])\n",
    "test_flag_label=test_flag_label.reshape(56,10)\n",
    "print(test_flag_label.shape[0])\n",
    "print(test_flag_label[0])"
   ]
  },
  {
   "cell_type": "markdown",
   "metadata": {},
   "source": [
    "查看预测数据内容"
   ]
  },
  {
   "cell_type": "code",
   "execution_count": 11,
   "metadata": {},
   "outputs": [
    {
     "name": "stdout",
     "output_type": "stream",
     "text": [
      "10001001110101110100111011011100100101111110000011001001\n"
     ]
    }
   ],
   "source": [
    "answer=''\n",
    "for i in range(test_flag_label.shape[0]):\n",
    "    if (sum(test_flag_label[i])/10>0.5):\n",
    "        answer += '1'\n",
    "    else:\n",
    "        answer += '0'\n",
    "        \n",
    "print(answer)"
   ]
  },
  {
   "cell_type": "markdown",
   "metadata": {},
   "source": [
    "每十个一组输出"
   ]
  },
  {
   "cell_type": "code",
   "execution_count": 12,
   "metadata": {},
   "outputs": [
    {
     "data": {
      "text/plain": [
       "array(True)"
      ]
     },
     "execution_count": 12,
     "metadata": {},
     "output_type": "execute_result"
    }
   ],
   "source": [
    "ans='10001001110101110100111011011100100101111110000011001001'\n",
    "a=np.array(answer)\n",
    "b=np.array(ans)\n",
    "a==b"
   ]
  },
  {
   "cell_type": "markdown",
   "metadata": {},
   "source": [
    "检查一下是否正确"
   ]
  }
 ],
 "metadata": {
  "kernelspec": {
   "display_name": "Python 3",
   "language": "python",
   "name": "python3"
  },
  "language_info": {
   "codemirror_mode": {
    "name": "ipython",
    "version": 3
   },
   "file_extension": ".py",
   "mimetype": "text/x-python",
   "name": "python",
   "nbconvert_exporter": "python",
   "pygments_lexer": "ipython3",
   "version": "3.6.6"
  }
 },
 "nbformat": 4,
 "nbformat_minor": 2
}
