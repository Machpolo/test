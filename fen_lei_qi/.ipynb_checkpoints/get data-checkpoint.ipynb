{
 "cells": [
  {
   "cell_type": "code",
   "execution_count": 2,
   "metadata": {},
   "outputs": [],
   "source": [
    "flag=\"10001001110101110100111011011100100101111110000011001001\"\n",
    "def load_data(file_path):\n",
    "    n_data=[]\n",
    "    p_data=[]\n",
    "    with open(file_path,\"r\") as data_file:\n",
    "        raw_data=data_file.readlines()\n",
    "        for raw_line in raw_data:\n",
    "            sample=raw_line[:-1]\n",
    "            if sample[-1]=='0':\n",
    "                n_data.append(sample)\n",
    "            else:\n",
    "                p_data.append(sample)\n",
    "    return p_data,n_data\n",
    "p_data,n_data=load_data(\"./spambase_test.data\")\n",
    "with open(\"./get_the_flag.data\",\"w\") as test:  \n",
    "    p_cnt=0\n",
    "    n_cnt=0\n",
    "    for i in flag:\n",
    "        if i=='0':\n",
    "            for x in range(10):\n",
    "                test.write(n_data[n_cnt][:-2]+\"\\n\")\n",
    "                n_cnt+=1\n",
    "        else:\n",
    "            for x in range(10):\n",
    "                test.write(p_data[p_cnt][:-2]+\"\\n\")\n",
    "                p_cnt+=1"
   ]
  },
  {
   "cell_type": "code",
   "execution_count": null,
   "metadata": {},
   "outputs": [],
   "source": []
  }
 ],
 "metadata": {
  "kernelspec": {
   "display_name": "Python 3",
   "language": "python",
   "name": "python3"
  },
  "language_info": {
   "codemirror_mode": {
    "name": "ipython",
    "version": 3
   },
   "file_extension": ".py",
   "mimetype": "text/x-python",
   "name": "python",
   "nbconvert_exporter": "python",
   "pygments_lexer": "ipython3",
   "version": "3.6.6"
  }
 },
 "nbformat": 4,
 "nbformat_minor": 2
}
